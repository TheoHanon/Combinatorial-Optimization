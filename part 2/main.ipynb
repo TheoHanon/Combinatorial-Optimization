{
 "cells": [
  {
   "cell_type": "code",
   "execution_count": 49,
   "metadata": {},
   "outputs": [],
   "source": [
    "include(\"model.jl\")\n",
    "include(\"Parser.jl\")\n",
    "include(\"proximal.jl\")\n",
    "include(\"tabu.jl\")\n",
    "include(\"utils.jl\")\n",
    "\n",
    "using JuMP"
   ]
  },
  {
   "cell_type": "code",
   "execution_count": 50,
   "metadata": {},
   "outputs": [
    {
     "data": {
      "text/plain": [
       "(OptVaxData(50, 5, [0.0 18.681541692269406 … 20.518284528683193 25.0; 18.681541692269406 0.0 … 19.235384061671343 10.198039027185569; … ; 20.518284528683193 19.235384061671343 … 0.0 29.427877939124322; 25.0 10.198039027185569 … 29.427877939124322 0.0], [0 1 … 0 1; 0 0 … 0 0; … ; 0 0 … 1 0; 0 1 … 0 1], 70, [420, 420, 350, 350, 350], [19, 17, 19, 18, 14, 19, 20, 13, 11, 16  …  18, 12, 16, 17, 11, 18, 14, 16, 15, 15], [10356, 9744, 5029, 10057, 13647], 1000, 14309.914850942907, [26, 39, 11, 21, 5], 5), [42.0, 2.0, 5.0, 14.0, 43.0], [6.0, 39.0, 45.0, 8.0, 3.0], [28.0, 33.0, 45.0, 14.0, 50.0, 17.0, 1.0, 39.0, 8.0, 17.0  …  23.0, 3.0, 15.0, 38.0, 42.0, 12.0, 47.0, 24.0, 14.0, 44.0], [23.0, 5.0, 13.0, 3.0, 32.0, 45.0, 22.0, 36.0, 8.0, 9.0  …  3.0, 49.0, 18.0, 50.0, 31.0, 23.0, 22.0, 24.0, 17.0, 20.0])"
      ]
     },
     "metadata": {},
     "output_type": "display_data"
    }
   ],
   "source": [
    "data, x_VC, y_VC, x_loc, y_loc, R = parse_to_struct(\"./Instances/coord50-5-1_processed.dat\")"
   ]
  },
  {
   "cell_type": "code",
   "execution_count": 51,
   "metadata": {},
   "outputs": [
    {
     "name": "stdout",
     "output_type": "stream",
     "text": [
      "Is feasible: true"
     ]
    },
    {
     "data": {
      "text/plain": [
       "(3, [[(53, 11), (11, 12), (12, 19), (19, 26), (26, 53)], [(53, 37), (37, 20), (20, 45), (45, 5), (5, 8), (8, 53)], [(53, 30), (30, 50), (50, 47), (47, 39), (39, 3), (3, 53)], [(53, 48), (48, 1), (1, 21), (21, 53)], [(53, 17), (17, 34), (34, 14), (14, 16), (16, 2), (2, 53)]], 21.890726231882866, 475.0)"
      ]
     },
     "metadata": {},
     "output_type": "display_data"
    }
   ],
   "source": [
    "(best_VC, best_MMTs, best_cost, best_Q) = tabu_search(data, alpha = 10.0)"
   ]
  },
  {
   "cell_type": "code",
   "execution_count": 52,
   "metadata": {},
   "outputs": [
    {
     "ename": "ErrorException",
     "evalue": "type OptVaxData has no field R",
     "output_type": "error",
     "traceback": [
      "type OptVaxData has no field R\n",
      "\n",
      "Stacktrace:\n",
      " [1] getproperty\n",
      "   @ ./Base.jl:37 [inlined]\n",
      " [2] plot_solution_greedy(MMTs::Vector{Vector{Tuple{Int64, Int64}}}, x_VC::Vector{Float64}, y_VC::Vector{Float64}, x_loc::Vector{Float64}, y_loc::Vector{Float64}, data::OptVaxData)\n",
      "   @ Main ~/Desktop/Master II/COMBI OPTI/Combinatorial-Optimization/part 2/utils.jl:7\n",
      " [3] top-level scope\n",
      "   @ ~/Desktop/Master II/COMBI OPTI/Combinatorial-Optimization/part 2/jl_notebook_cell_df34fa98e69747e1a8f8a730347b8e2f_W6sZmlsZQ==.jl:1"
     ]
    }
   ],
   "source": [
    "plot_solution_greedy(best_MMTs, x_VC, y_VC, x_loc, y_loc, data)"
   ]
  },
  {
   "cell_type": "code",
   "execution_count": null,
   "metadata": {},
   "outputs": [
    {
     "name": "stdout",
     "output_type": "stream",
     "text": [
      "====================================\n",
      "z_star = 256.0\n",
      "====================================\n"
     ]
    }
   ],
   "source": [
    "println(\"====================================\")\n",
    "println(\"z_low = \", best_Q)\n",
    "println(\"====================================\")"
   ]
  },
  {
   "cell_type": "code",
   "execution_count": 39,
   "metadata": {},
   "outputs": [
    {
     "name": "stderr",
     "output_type": "stream",
     "text": [
      "\u001b[32mProximal gradient descent   6%|█▌                        |  ETA: 0:01:02\u001b[39m\u001b[K"
     ]
    },
    {
     "ename": "InterruptException",
     "evalue": "InterruptException:",
     "output_type": "error",
     "traceback": [
      "InterruptException:\n",
      "\n",
      "Stacktrace:\n",
      "  [1] optimize!(model::HiGHS.Optimizer)\n",
      "    @ HiGHS ~/.julia/packages/HiGHS/r3y5q/src/MOI_wrapper.jl:2041\n",
      "  [2] optimize!\n",
      "    @ ~/.julia/packages/MathOptInterface/mz9FK/src/Bridges/bridge_optimizer.jl:380 [inlined]\n",
      "  [3] optimize!\n",
      "    @ ~/.julia/packages/MathOptInterface/mz9FK/src/MathOptInterface.jl:85 [inlined]\n",
      "  [4] optimize!(m::MathOptInterface.Utilities.CachingOptimizer{MathOptInterface.Bridges.LazyBridgeOptimizer{HiGHS.Optimizer}, MathOptInterface.Utilities.UniversalFallback{MathOptInterface.Utilities.Model{Float64}}})\n",
      "    @ MathOptInterface.Utilities ~/.julia/packages/MathOptInterface/mz9FK/src/Utilities/cachingoptimizer.jl:316\n",
      "  [5] optimize!(model::Model; ignore_optimize_hook::Bool, _differentiation_backend::MathOptInterface.Nonlinear.SparseReverseMode, kwargs::@Kwargs{})\n",
      "    @ JuMP ~/.julia/packages/JuMP/glJ0u/src/optimizer_interface.jl:457\n",
      "  [6] optimize!\n",
      "    @ ~/.julia/packages/JuMP/glJ0u/src/optimizer_interface.jl:409 [inlined]\n",
      "  [7] OptVax_Dual(u_subtours::Array{Float64, 3}, u_capacities::Vector{Float64}, data::OptVaxData)\n",
      "    @ Main ~/Desktop/Master II/COMBI OPTI/Combinatorial-Optimization/part 2/model.jl:118\n",
      "  [8] proximal_gradient_descent(z_lower::Float64, data::OptVaxData, max_iter::Int64)\n",
      "    @ Main ~/Desktop/Master II/COMBI OPTI/Combinatorial-Optimization/part 2/proximal.jl:41\n",
      "  [9] eval\n",
      "    @ ./boot.jl:385 [inlined]\n",
      " [10] include_string(mapexpr::typeof(REPL.softscope), mod::Module, code::String, filename::String)\n",
      "    @ Base ./loading.jl:2076\n",
      " [11] #invokelatest#2\n",
      "    @ ./essentials.jl:892 [inlined]\n",
      " [12] invokelatest\n",
      "    @ ./essentials.jl:889 [inlined]\n",
      " [13] (::VSCodeServer.var\"#217#218\"{VSCodeServer.NotebookRunCellArguments, String})()\n",
      "    @ VSCodeServer ~/.vscode/extensions/julialang.language-julia-1.127.2/scripts/packages/VSCodeServer/src/serve_notebook.jl:24\n",
      " [14] withpath(f::VSCodeServer.var\"#217#218\"{VSCodeServer.NotebookRunCellArguments, String}, path::String)\n",
      "    @ VSCodeServer ~/.vscode/extensions/julialang.language-julia-1.127.2/scripts/packages/VSCodeServer/src/repl.jl:276\n",
      " [15] notebook_runcell_request(conn::VSCodeServer.JSONRPC.JSONRPCEndpoint{Base.PipeEndpoint, Base.PipeEndpoint}, params::VSCodeServer.NotebookRunCellArguments)\n",
      "    @ VSCodeServer ~/.vscode/extensions/julialang.language-julia-1.127.2/scripts/packages/VSCodeServer/src/serve_notebook.jl:13\n",
      " [16] dispatch_msg(x::VSCodeServer.JSONRPC.JSONRPCEndpoint{Base.PipeEndpoint, Base.PipeEndpoint}, dispatcher::VSCodeServer.JSONRPC.MsgDispatcher, msg::Dict{String, Any})\n",
      "    @ VSCodeServer.JSONRPC ~/.vscode/extensions/julialang.language-julia-1.127.2/scripts/packages/JSONRPC/src/typed.jl:67\n",
      " [17] serve_notebook(pipename::String, debugger_pipename::String, outputchannel_logger::Base.CoreLogging.SimpleLogger; error_handler::var\"#5#10\"{String})\n",
      "    @ VSCodeServer ~/.vscode/extensions/julialang.language-julia-1.127.2/scripts/packages/VSCodeServer/src/serve_notebook.jl:147\n",
      " [18] top-level scope\n",
      "    @ ~/.vscode/extensions/julialang.language-julia-1.127.2/scripts/notebook/notebook.jl:35"
     ]
    }
   ],
   "source": [
    "z_dual = proximal_gradient_descent(\n",
    "                    best_Q,\n",
    "                    data,\n",
    "                    50,)"
   ]
  },
  {
   "cell_type": "code",
   "execution_count": 9,
   "metadata": {},
   "outputs": [
    {
     "name": "stdout",
     "output_type": "stream",
     "text": [
      "====================================\n",
      "z_dual = 286.002720578172\n",
      "====================================\n"
     ]
    }
   ],
   "source": [
    "println(\"====================================\")\n",
    "println(\"z_dual = \", z_dual)\n",
    "println(\"====================================\")"
   ]
  }
 ],
 "metadata": {
  "kernelspec": {
   "display_name": "Julia 1.10.2",
   "language": "julia",
   "name": "julia-1.10"
  },
  "language_info": {
   "file_extension": ".jl",
   "mimetype": "application/julia",
   "name": "julia",
   "version": "1.10.2"
  }
 },
 "nbformat": 4,
 "nbformat_minor": 2
}
