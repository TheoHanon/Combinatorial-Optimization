{
 "cells": [
  {
   "cell_type": "code",
   "execution_count": 1,
   "metadata": {},
   "outputs": [],
   "source": [
    "include(\"model.jl\")\n",
    "include(\"Parser.jl\")\n",
    "using JuMP"
   ]
  },
  {
   "cell_type": "markdown",
   "metadata": {},
   "source": [
    "## Data processing"
   ]
  },
  {
   "cell_type": "code",
   "execution_count": 2,
   "metadata": {},
   "outputs": [
    {
     "data": {
      "text/plain": [
       "(20, 5, [6.0, 19.0, 37.0, 35.0, 5.0], [7.0, 44.0, 23.0, 6.0, 8.0], [20.0, 8.0, 29.0, 18.0, 19.0, 31.0, 38.0, 33.0, 2.0, 1.0, 26.0, 20.0, 15.0, 20.0, 17.0, 15.0, 5.0, 13.0, 38.0, 9.0], [35.0, 31.0, 43.0, 39.0, 47.0, 24.0, 50.0, 21.0, 27.0, 12.0, 20.0, 33.0, 46.0, 26.0, 19.0, 12.0, 30.0, 40.0, 5.0, 40.0], 70, [140, 140, 140, 140, 140], [17, 18, 13, 19, 12, 18, 13, 13, 17, 20, 16, 18, 15, 11, 18, 16, 15, 15, 15, 16], [10841, 11961, 6091, 7570, 7497], 1000, 0, 15549.245317275838, [13.958791596349233, 12.114607178090317, 9.951277348331352, 12.467724566948226, 14.326988158440654], [12, 5, 15], 5)"
      ]
     },
     "metadata": {},
     "output_type": "display_data"
    }
   ],
   "source": [
    "n, m, x_VC, y_VC, x_loc, y_loc, Q, C, q, f, p, tc, B, R, localities_with_high_priorities, M = parse_instance(\"./Instances/coord20-5-1_processed.dat\")\n"
   ]
  },
  {
   "cell_type": "code",
   "execution_count": 3,
   "metadata": {},
   "outputs": [],
   "source": [
    "# Create the distance matrix\n",
    "distance_matrix = zeros(Float64, m, n)\n",
    "\n",
    "for i in 1:m \n",
    "    for j in 1:n\n",
    "        distance_matrix[i, j] = sqrt((x_VC[i] - x_loc[j])^2 + (y_VC[i] - y_loc[j])^2)\n",
    "    end\n",
    "end\n",
    "\n",
    "\n",
    "# Create reachability matrix a\n",
    "A = zeros(Int, n, n)\n",
    "\n",
    "\n",
    "for i in 1:m\n",
    "    for j in 1:n\n",
    "        if distance_matrix[i, j] <= R[i]\n",
    "            A[i, j] = 1\n",
    "        end\n",
    "    end\n",
    "end"
   ]
  },
  {
   "cell_type": "markdown",
   "metadata": {},
   "source": [
    "## Models Creation"
   ]
  },
  {
   "cell_type": "markdown",
   "metadata": {},
   "source": [
    "### OptVax1"
   ]
  },
  {
   "cell_type": "code",
   "execution_count": 4,
   "metadata": {},
   "outputs": [
    {
     "name": "stdout",
     "output_type": "stream",
     "text": [
      "Running HiGHS 1.8.0 (git hash: fcfb53414): Copyright (c) 2024 HiGHS under MIT licence terms\n",
      "Coefficient ranges:\n",
      "  Matrix [1e+00, 1e+04]\n",
      "  Cost   [1e+01, 2e+01]\n",
      "  Bound  [1e+00, 1e+00]\n",
      "  RHS    [1e+00, 2e+04]\n",
      "Presolving model\n",
      "3262 rows, 2673 cols, 12864 nonzeros  0s\n",
      "2681 rows, 2594 cols, 11823 nonzeros  0s\n",
      "Objective function is integral with scale 1\n",
      "\n",
      "Solving MIP model with:\n",
      "   2681 rows\n",
      "   2594 cols (2594 binary, 0 integer, 0 implied int., 0 continuous)\n",
      "   11823 nonzeros\n",
      "\n",
      "        Nodes      |    B&B Tree     |            Objective Bounds              |  Dynamic Constraints |       Work      \n",
      "     Proc. InQueue |  Leaves   Expl. | BestBound       BestSol              Gap |   Cuts   InLp Confl. | LpIters     Time\n",
      "\n",
      "         0       0         0   0.00%   315             -inf                 inf        0      0      0         0     0.1s\n",
      "         0       0         0   0.00%   265             -inf                 inf        0      0     10       197     0.1s\n",
      " C       0       0         0   0.00%   265             48               452.08%       89     13     72       632     0.2s\n",
      " L       0       0         0   0.00%   265             265                0.00%      515     35     72      2181     0.6s\n",
      "         1       0         1 100.00%   265             265                0.00%      515     35     72      2205     0.6s\n",
      "\n",
      "Solving report\n",
      "  Status            Optimal\n",
      "  Primal bound      265\n",
      "  Dual bound        265\n",
      "  Gap               0% (tolerance: 0.01%)\n",
      "  Solution status   feasible\n",
      "                    265 (objective)\n",
      "                    0 (bound viol.)\n",
      "                    0 (int. viol.)\n",
      "                    0 (row viol.)\n",
      "  Timing            0.58 (total)\n",
      "                    0.06 (presolve)\n",
      "                    0.00 (postsolve)\n",
      "  Nodes             1\n",
      "  LP iterations     2205 (total)\n",
      "                    0 (strong br.)\n",
      "                    1984 (separation)\n",
      "                    24 (heuristics)\n",
      "Objective Value: 265.0\n"
     ]
    }
   ],
   "source": [
    "model_OptVax1 = solve_OptVax1(n, m, A, Q, C, q, f, p, B, R, localities_with_high_priorities, M)\n",
    "\n",
    "obj_val = objective_value(model_OptVax1)\n",
    "println(\"Objective Value: \", obj_val)"
   ]
  },
  {
   "cell_type": "markdown",
   "metadata": {},
   "source": [
    "### OptVax2"
   ]
  },
  {
   "cell_type": "code",
   "execution_count": 7,
   "metadata": {},
   "outputs": [
    {
     "name": "stdout",
     "output_type": "stream",
     "text": [
      "Running HiGHS 1.8.0 (git hash: fcfb53414): Copyright (c) 2024 HiGHS under MIT licence terms\n",
      "Coefficient ranges:\n",
      "  Matrix [2e-01, 1e+04]\n",
      "  Cost   [1e+01, 2e+01]\n",
      "  Bound  [1e+00, 1e+00]\n",
      "  RHS    [1e+00, 2e+04]\n",
      "Presolving model\n",
      "3263 rows, 2673 cols, 12888 nonzeros  0s\n",
      "2682 rows, 2594 cols, 11846 nonzeros  0s\n",
      "Objective function is integral with scale 1\n",
      "\n",
      "Solving MIP model with:\n",
      "   2682 rows\n",
      "   2594 cols (2594 binary, 0 integer, 0 implied int., 0 continuous)\n",
      "   11846 nonzeros\n",
      "\n",
      "        Nodes      |    B&B Tree     |            Objective Bounds              |  Dynamic Constraints |       Work      \n",
      "     Proc. InQueue |  Leaves   Expl. | BestBound       BestSol              Gap |   Cuts   InLp Confl. | LpIters     Time\n",
      "\n",
      "         0       0         0   0.00%   315             -inf                 inf        0      0      0         0     0.1s\n",
      " R       0       0         0   0.00%   265             256                3.52%        0      0      0        52     0.1s\n",
      "\n",
      "49.4% inactive integer columns, restarting\n",
      "Model after restart has 1326 rows, 1312 cols (1312 bin., 0 int., 0 impl., 0 cont.), and 5335 nonzeros\n",
      "\n",
      "         0       0         0   0.00%   265             256                3.52%        0      0      0        52     0.1s\n",
      "         0       0         0   0.00%   265             256                3.52%        0      0      9        53     0.1s\n",
      " C       0       0         0   0.00%   265             260                1.92%      154      7     18        79     0.2s\n",
      " L       0       0         0   0.00%   265             265                0.00%      774     41     18       577     0.3s\n",
      "         1       0         1 100.00%   265             265                0.00%      774     41     18       588     0.3s\n",
      "\n",
      "Solving report\n",
      "  Status            Optimal\n",
      "  Primal bound      265\n",
      "  Dual bound        265\n",
      "  Gap               0% (tolerance: 0.01%)\n",
      "  Solution status   feasible\n",
      "                    265 (objective)\n",
      "                    0 (bound viol.)\n",
      "                    6.08402217495e-14 (int. viol.)\n",
      "                    0 (row viol.)\n",
      "  Timing            0.34 (total)\n",
      "                    0.12 (presolve)\n",
      "                    0.00 (postsolve)\n",
      "  Nodes             1\n",
      "  LP iterations     588 (total)\n",
      "                    0 (strong br.)\n",
      "                    524 (separation)\n",
      "                    11 (heuristics)\n",
      "Objective Value: 265.0000000000005\n"
     ]
    }
   ],
   "source": [
    "model_OptVax2 = solve_OptVax2(n, m, A, Q, C, q, f, p, B, R, localities_with_high_priorities, M)\n",
    "obj_val = objective_value(model_OptVax2)\n",
    "println(\"Objective Value: \", obj_val)"
   ]
  }
 ],
 "metadata": {
  "kernelspec": {
   "display_name": "Julia 1.10.2",
   "language": "julia",
   "name": "julia-1.10"
  },
  "language_info": {
   "file_extension": ".jl",
   "mimetype": "application/julia",
   "name": "julia",
   "version": "1.10.2"
  }
 },
 "nbformat": 4,
 "nbformat_minor": 2
}
