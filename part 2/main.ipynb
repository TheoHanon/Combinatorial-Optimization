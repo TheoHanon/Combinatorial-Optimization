{
 "cells": [
  {
   "cell_type": "code",
   "execution_count": 6,
   "metadata": {},
   "outputs": [],
   "source": [
    "include(\"model.jl\")\n",
    "include(\"Parser.jl\")\n",
    "include(\"proximal.jl\")\n",
    "\n",
    "using JuMP"
   ]
  },
  {
   "cell_type": "code",
   "execution_count": 7,
   "metadata": {},
   "outputs": [
    {
     "data": {
      "text/plain": [
       "OptVaxData(50, 5, [0.0 18.681541692269406 … 20.518284528683193 25.0; 18.681541692269406 0.0 … 19.235384061671343 10.198039027185569; … ; 20.518284528683193 19.235384061671343 … 0.0 29.427877939124322; 25.0 10.198039027185569 … 29.427877939124322 0.0], [0 1 … 0 1; 0 0 … 0 0; … ; 0 0 … 1 0; 0 1 … 0 1], 70, [420, 420, 350, 350, 350], [19, 17, 19, 18, 14, 19, 20, 13, 11, 16  …  18, 12, 16, 17, 11, 18, 14, 16, 15, 15], [10356, 9744, 5029, 10057, 13647], 1000, 14309.914850942907, [26, 39, 11, 21, 5], 5)"
      ]
     },
     "metadata": {},
     "output_type": "display_data"
    }
   ],
   "source": [
    "data = parse_to_struct(\"./Instances/coord20-5-1_processed.dat\")"
   ]
  },
  {
   "cell_type": "code",
   "execution_count": null,
   "metadata": {},
   "outputs": [],
   "source": [
    "OptVax(data)"
   ]
  }
 ],
 "metadata": {
  "kernelspec": {
   "display_name": "Julia 1.10.2",
   "language": "julia",
   "name": "julia-1.10"
  },
  "language_info": {
   "file_extension": ".jl",
   "mimetype": "application/julia",
   "name": "julia",
   "version": "1.10.2"
  }
 },
 "nbformat": 4,
 "nbformat_minor": 2
}
